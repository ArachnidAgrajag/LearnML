{
  "nbformat": 4,
  "nbformat_minor": 0,
  "metadata": {
    "colab": {
      "name": "identify_apparels.ipynb",
      "provenance": [],
      "collapsed_sections": [],
      "authorship_tag": "ABX9TyPgrFd1BAdssiUG5rAbtSP0",
      "include_colab_link": true
    },
    "kernelspec": {
      "name": "python3",
      "display_name": "Python 3"
    }
  },
  "cells": [
    {
      "cell_type": "markdown",
      "metadata": {
        "id": "view-in-github",
        "colab_type": "text"
      },
      "source": [
        "<a href=\"https://colab.research.google.com/github/ArachnidAgrajag/LearnML/blob/master/identify_apparels.ipynb\" target=\"_parent\"><img src=\"https://colab.research.google.com/assets/colab-badge.svg\" alt=\"Open In Colab\"/></a>"
      ]
    },
    {
      "cell_type": "code",
      "metadata": {
        "id": "V8udaaovozBb",
        "colab_type": "code",
        "colab": {}
      },
      "source": [
        "!pip install PyDrive\n",
        "import os\n",
        "from pydrive.auth import GoogleAuth\n",
        "from pydrive.drive import GoogleDrive\n",
        "from google.colab import auth\n",
        "from oauth2client.client import GoogleCredentials\n",
        "#loading the data\n",
        "auth.authenticate_user()\n",
        "gauth = GoogleAuth()\n",
        "gauth.credentials = GoogleCredentials.get_application_default()\n",
        "drive = GoogleDrive(gauth)\n",
        "download = drive.CreateFile({'id': '1lrzlULX8VPZQT26hSdtmFWRp2XxFKm0o'})\n",
        "\n",
        "download.GetContentFile('train_LbELtWX.zip')\n",
        "!unzip train_LbELtWX.zip"
      ],
      "execution_count": 0,
      "outputs": []
    },
    {
      "cell_type": "code",
      "metadata": {
        "id": "ytg70frBtjtN",
        "colab_type": "code",
        "colab": {
          "base_uri": "https://localhost:8080/",
          "height": 34
        },
        "outputId": "fde44595-77bf-471f-d277-bb241c9de14d"
      },
      "source": [
        "import keras\n",
        "from keras.models import Sequential\n",
        "from keras.layers import Dense, Dropout, Flatten\n",
        "from keras.layers import Conv2D, MaxPooling2D\n",
        "from keras.utils import to_categorical\n",
        "from keras.preprocessing import image\n",
        "import numpy as np\n",
        "import pandas as pd\n",
        "import matplotlib.pyplot as plt\n",
        "from sklearn.model_selection import train_test_split\n",
        "from keras.utils import to_categorical\n",
        "from tqdm import tqdm"
      ],
      "execution_count": 2,
      "outputs": [
        {
          "output_type": "stream",
          "text": [
            "Using TensorFlow backend.\n"
          ],
          "name": "stderr"
        }
      ]
    },
    {
      "cell_type": "code",
      "metadata": {
        "id": "AeBDvZHEtqvd",
        "colab_type": "code",
        "colab": {
          "base_uri": "https://localhost:8080/",
          "height": 34
        },
        "outputId": "a013000e-da74-4c0a-9320-7bd2e4c7b9a1"
      },
      "source": [
        "# the csv files contain the image file names along with the label\n",
        "train = pd.read_csv('train.csv')\n",
        "\n",
        "# we will read all the training images and load them in a list and convert it to\n",
        "# a numpy array\n",
        "train_image = []\n",
        "\n",
        "for i in tqdm(range(train.shape[0])):\n",
        "  img = image.load_img('train/'+train['id'][i].astype('str')+'.png', \n",
        "                         target_size=(28,28,1),\n",
        "                         color_mode=\"grayscale\")\n",
        "  # convert image to an numpy array\n",
        "  img =  image.img_to_array(img)\n",
        "  # to keep the values from 0 to 1\n",
        "  img = img/255\n",
        "  train_image.append(img)\n",
        "\n",
        "#load the data\n",
        "X = np.array(train_image)\n",
        "y = train['label'].values\n",
        "y = to_categorical(y)\n",
        "\n",
        "# train test split for validation\n",
        "\n",
        "X_train, X_test, y_train, y_test = train_test_split(X, y, random_state=42, \n",
        "                                                    test_size=0.2)\n"
      ],
      "execution_count": 3,
      "outputs": [
        {
          "output_type": "stream",
          "text": [
            "100%|██████████| 60000/60000 [00:16<00:00, 3580.90it/s]\n"
          ],
          "name": "stderr"
        }
      ]
    },
    {
      "cell_type": "code",
      "metadata": {
        "id": "Auda6AX-eXIK",
        "colab_type": "code",
        "colab": {}
      },
      "source": [
        "# define model structure\n",
        "# We will create a simple architecture (simple lol) with 2 convolutional layers, one dense hidden layer and an output layer.\n",
        "model = Sequential()\n",
        "model.add(Conv2D(32, kernel_size=(3, 3), activation='relu',input_shape=(28,28,1)))\n",
        "model.add(Conv2D(64, kernel_size=(3, 3), activation='relu'))\n",
        "model.add(MaxPooling2D(pool_size=(2, 2)))\n",
        "model.add(Dropout(0.25))\n",
        "model.add(Flatten())\n",
        "model.add(Dense(128, activation='relu'))\n",
        "model.add(Dropout(0.5))\n",
        "model.add(Dense(10, activation='softmax'))\n",
        "\n",
        "model.compile(loss='categorical_crossentropy',\n",
        "              optimizer='Adam',\n",
        "              metrics=['accuracy'])\n"
      ],
      "execution_count": 0,
      "outputs": []
    },
    {
      "cell_type": "code",
      "metadata": {
        "id": "wKeb4a3ZgtX3",
        "colab_type": "code",
        "colab": {
          "base_uri": "https://localhost:8080/",
          "height": 399
        },
        "outputId": "cffafa73-ded5-42fb-f0e6-9f418441b783"
      },
      "source": [
        "#training the model\n",
        "model.fit(X_train, y_train, epochs=10, validation_data=(X_test, y_test))"
      ],
      "execution_count": 5,
      "outputs": [
        {
          "output_type": "stream",
          "text": [
            "Train on 48000 samples, validate on 12000 samples\n",
            "Epoch 1/10\n",
            "48000/48000 [==============================] - 137s 3ms/step - loss: 0.4966 - accuracy: 0.8243 - val_loss: 0.3093 - val_accuracy: 0.8881\n",
            "Epoch 2/10\n",
            "48000/48000 [==============================] - 137s 3ms/step - loss: 0.3360 - accuracy: 0.8799 - val_loss: 0.2606 - val_accuracy: 0.9045\n",
            "Epoch 3/10\n",
            "48000/48000 [==============================] - 137s 3ms/step - loss: 0.2855 - accuracy: 0.8969 - val_loss: 0.2449 - val_accuracy: 0.9111\n",
            "Epoch 4/10\n",
            "48000/48000 [==============================] - 137s 3ms/step - loss: 0.2539 - accuracy: 0.9070 - val_loss: 0.2360 - val_accuracy: 0.9139\n",
            "Epoch 5/10\n",
            "48000/48000 [==============================] - 137s 3ms/step - loss: 0.2275 - accuracy: 0.9155 - val_loss: 0.2287 - val_accuracy: 0.9145\n",
            "Epoch 6/10\n",
            "48000/48000 [==============================] - 137s 3ms/step - loss: 0.2110 - accuracy: 0.9230 - val_loss: 0.2276 - val_accuracy: 0.9192\n",
            "Epoch 7/10\n",
            "48000/48000 [==============================] - 137s 3ms/step - loss: 0.1959 - accuracy: 0.9277 - val_loss: 0.2162 - val_accuracy: 0.9240\n",
            "Epoch 8/10\n",
            "48000/48000 [==============================] - 136s 3ms/step - loss: 0.1773 - accuracy: 0.9335 - val_loss: 0.2197 - val_accuracy: 0.9231\n",
            "Epoch 9/10\n",
            "48000/48000 [==============================] - 136s 3ms/step - loss: 0.1688 - accuracy: 0.9382 - val_loss: 0.2111 - val_accuracy: 0.9252\n",
            "Epoch 10/10\n",
            "48000/48000 [==============================] - 136s 3ms/step - loss: 0.1602 - accuracy: 0.9397 - val_loss: 0.2244 - val_accuracy: 0.9212\n"
          ],
          "name": "stdout"
        },
        {
          "output_type": "execute_result",
          "data": {
            "text/plain": [
              "<keras.callbacks.callbacks.History at 0x7f1da3985d68>"
            ]
          },
          "metadata": {
            "tags": []
          },
          "execution_count": 5
        }
      ]
    },
    {
      "cell_type": "code",
      "metadata": {
        "id": "IYCdpBb4mkTb",
        "colab_type": "code",
        "colab": {
          "base_uri": "https://localhost:8080/",
          "height": 34
        },
        "outputId": "9fc9ef15-9f3f-4fc4-ae25-0284e0cda1f3"
      },
      "source": [
        "from keras.models import model_from_json\n",
        "# serialize model to JSON\n",
        "model_json = model.to_json()\n",
        "with open(\"model.json\", \"w\") as json_file:\n",
        "    json_file.write(model_json)\n",
        "# serialize weights to HDF5\n",
        "model.save_weights(\"model.h5\")\n",
        "print(\"Saved model to disk\")\n",
        "\n",
        "# save to gdrive \n",
        "model_json_file = drive.CreateFile({'title':'model.json'})\n",
        "model_json_file.SetContentFile('model.json')\n",
        "model_json_file.Upload()\n",
        "\n",
        "\n",
        "# save to gdrive \n",
        "model_file = drive.CreateFile({'title':'model.h5'})\n",
        "model_file.SetContentFile('model.h5')\n",
        "model_file.Upload()\n",
        "\n"
      ],
      "execution_count": 13,
      "outputs": [
        {
          "output_type": "stream",
          "text": [
            "Saved model to disk\n"
          ],
          "name": "stdout"
        }
      ]
    },
    {
      "cell_type": "code",
      "metadata": {
        "id": "oGgLqmz1pNEZ",
        "colab_type": "code",
        "colab": {}
      },
      "source": [
        "#testing the model\n",
        "#load test data\n",
        "download = drive.CreateFile({'id': '1TQ881AHa6HxoyvNd4QDej5vylnqx3Qcd'})\n",
        "download.GetContentFile('test_ScVgIM0.zip')\n",
        "!unzip test_ScVgIM0.zip"
      ],
      "execution_count": 0,
      "outputs": []
    },
    {
      "cell_type": "code",
      "metadata": {
        "id": "seuxblLxqSp_",
        "colab_type": "code",
        "colab": {
          "base_uri": "https://localhost:8080/",
          "height": 34
        },
        "outputId": "42b624d1-c233-43d4-a7c7-c7465d481c37"
      },
      "source": [
        "test = pd.read_csv('test.csv')\n",
        "test_image = []\n",
        "for i in tqdm(range(test.shape[0])):\n",
        "  img = image.load_img('test/'+test['id'][i].astype('str')+'.png', \n",
        "                       target_size=(28,28,1), \n",
        "                       color_mode='grayscale')\n",
        "  img = image.img_to_array(img)\n",
        "  img = img/255\n",
        "  test_image.append(img)\n",
        "test = np.array(test_image)\n",
        "# making predictions\n",
        "\n",
        "prediction = model.predict_classes(test)"
      ],
      "execution_count": 8,
      "outputs": [
        {
          "output_type": "stream",
          "text": [
            "100%|██████████| 10000/10000 [00:02<00:00, 3680.86it/s]\n"
          ],
          "name": "stderr"
        }
      ]
    },
    {
      "cell_type": "code",
      "metadata": {
        "id": "qkbwKrXZqrjM",
        "colab_type": "code",
        "colab": {}
      },
      "source": [
        "\n",
        "\n",
        "download = drive.CreateFile({'id': '1o99aGmdgTwLqlP3Pi7f6_kBqhjLa5EuK'})\n",
        "download.GetContentFile('sample_submission_I5njJSF.csv')\n",
        "\n"
      ],
      "execution_count": 0,
      "outputs": []
    },
    {
      "cell_type": "code",
      "metadata": {
        "id": "N2V4fmDdupIW",
        "colab_type": "code",
        "colab": {}
      },
      "source": [
        "# creating submission file\n",
        "sample = pd.read_csv('sample_submission_I5njJSF.csv')\n",
        "sample['label'] = prediction\n",
        "sample.to_csv('sample_cnn.csv', header=True, index=False)\n"
      ],
      "execution_count": 0,
      "outputs": []
    },
    {
      "cell_type": "code",
      "metadata": {
        "id": "hB4YGQVEvpv7",
        "colab_type": "code",
        "colab": {}
      },
      "source": [
        "sample_file = drive.CreateFile({'title':'sample_cnn.csv'})\n",
        "sample_file.SetContentFile('sample_cnn.csv')\n",
        "sample_file.Upload()"
      ],
      "execution_count": 0,
      "outputs": []
    }
  ]
}